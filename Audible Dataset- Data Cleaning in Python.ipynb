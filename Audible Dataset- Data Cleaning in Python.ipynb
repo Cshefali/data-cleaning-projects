{
 "cells": [
  {
   "cell_type": "markdown",
   "id": "d06a160f",
   "metadata": {
    "cell_type": "raw",
    "metadata": {},
    "source": [
     "<style>\n",
     "    .rendered_html { background-color: #F0F0F0; color: #000000 }\n",
     "</style>"
    ]
   },
   "source": [
    "# Introduction\n",
    "\n",
    "This notebook answers some of the most common \"How To..\" questions that pop-up during data cleaning.  \n",
    "I've also cleaned this data in R. You may check out the R version [here on RPubs](https://rpubs.com/Shefali/cleaning-audible-dataset).  \n",
    "\n",
    "I hope both versions of this work helps beginners in understanding corresponding functions in Python and R.\n",
    "\n",
    "The dataset used in this notebook can be found [here on Kaggle](https://www.kaggle.com/datasets/snehangsude/audible-dataset/data)."
   ]
  },
  {
   "cell_type": "markdown",
   "id": "0ca656c3",
   "metadata": {},
   "source": [
    "<a id=\"0\"></a> <br>  \n",
    "# Table of Contents \n",
    "1. [How to check total count of each category?](#1)  \n",
    "2. [How to check number of duplicate rows?](#2)  \n",
    "3. [How to remove a string pattern?](#3)  \n",
    "4. [How to add space between 2 or more word blocks? (here first, middle, last name)](#4)  \n",
    "5. [How to split a value into multiple columns and assign column name with prefix/suffix?](#5)  \n",
    "6. [ How to find total number of NA in each column?](#6)  \n",
    "7. [How to extract digits before a specifc word?](#7)  \n",
    "8. [How to convert NaN values to 0?](#8)\n",
    "9. [How to change the datatype of multiple columns?](#9)  \n",
    "10. [How to check for inconsistencies in date column stored as a string?](#10)  \n",
    "11. [How to convert date stored as string to 'date' type?](#11)  \n",
    "12. [How to convert text to one uniform case?](#12)  \n",
    "13. [How to split a text column with a specific word acting as separator?](#13)  \n",
    "14. [How to extract decimal numbers from a text?](#14)"
   ]
  },
  {
   "cell_type": "code",
   "execution_count": 2,
   "id": "2d7603b5",
   "metadata": {},
   "outputs": [],
   "source": [
    "#load libraries\n",
    "import pandas as pd\n",
    "import numpy as np\n",
    "import random"
   ]
  },
  {
   "cell_type": "markdown",
   "id": "1d5e1a5e",
   "metadata": {},
   "source": [
    "The code below increases the number of rows displayed in jupyter notebook when printing a dataframe."
   ]
  },
  {
   "cell_type": "code",
   "execution_count": 3,
   "id": "5d5141f8",
   "metadata": {},
   "outputs": [],
   "source": [
    "#increase number of rows displayed by default in jupyter notebook\n",
    "pd.options.display.max_rows = 50000"
   ]
  },
  {
   "cell_type": "code",
   "execution_count": 4,
   "id": "5ca7a280",
   "metadata": {},
   "outputs": [],
   "source": [
    "#read data\n",
    "audible_data = pd.read_csv(\"data/audible_dataset/audible_uncleaned.csv\")"
   ]
  },
  {
   "cell_type": "code",
   "execution_count": 7,
   "id": "5e4386ea",
   "metadata": {
    "scrolled": true
   },
   "outputs": [
    {
     "data": {
      "text/html": [
       "<div>\n",
       "<style scoped>\n",
       "    .dataframe tbody tr th:only-of-type {\n",
       "        vertical-align: middle;\n",
       "    }\n",
       "\n",
       "    .dataframe tbody tr th {\n",
       "        vertical-align: top;\n",
       "    }\n",
       "\n",
       "    .dataframe thead th {\n",
       "        text-align: right;\n",
       "    }\n",
       "</style>\n",
       "<table border=\"1\" class=\"dataframe\">\n",
       "  <thead>\n",
       "    <tr style=\"text-align: right;\">\n",
       "      <th></th>\n",
       "      <th>name</th>\n",
       "      <th>author</th>\n",
       "      <th>narrator</th>\n",
       "      <th>time</th>\n",
       "      <th>releasedate</th>\n",
       "      <th>language</th>\n",
       "      <th>stars</th>\n",
       "      <th>price</th>\n",
       "    </tr>\n",
       "  </thead>\n",
       "  <tbody>\n",
       "    <tr>\n",
       "      <th>0</th>\n",
       "      <td>Geronimo Stilton #11 &amp; #12</td>\n",
       "      <td>Writtenby:GeronimoStilton</td>\n",
       "      <td>Narratedby:BillLobely</td>\n",
       "      <td>2 hrs and 20 mins</td>\n",
       "      <td>04-08-08</td>\n",
       "      <td>English</td>\n",
       "      <td>5 out of 5 stars34 ratings</td>\n",
       "      <td>468.00</td>\n",
       "    </tr>\n",
       "    <tr>\n",
       "      <th>1</th>\n",
       "      <td>The Burning Maze</td>\n",
       "      <td>Writtenby:RickRiordan</td>\n",
       "      <td>Narratedby:RobbieDaymond</td>\n",
       "      <td>13 hrs and 8 mins</td>\n",
       "      <td>01-05-18</td>\n",
       "      <td>English</td>\n",
       "      <td>4.5 out of 5 stars41 ratings</td>\n",
       "      <td>820.00</td>\n",
       "    </tr>\n",
       "    <tr>\n",
       "      <th>2</th>\n",
       "      <td>The Deep End</td>\n",
       "      <td>Writtenby:JeffKinney</td>\n",
       "      <td>Narratedby:DanRussell</td>\n",
       "      <td>2 hrs and 3 mins</td>\n",
       "      <td>06-11-20</td>\n",
       "      <td>English</td>\n",
       "      <td>4.5 out of 5 stars38 ratings</td>\n",
       "      <td>410.00</td>\n",
       "    </tr>\n",
       "    <tr>\n",
       "      <th>3</th>\n",
       "      <td>Daughter of the Deep</td>\n",
       "      <td>Writtenby:RickRiordan</td>\n",
       "      <td>Narratedby:SoneelaNankani</td>\n",
       "      <td>11 hrs and 16 mins</td>\n",
       "      <td>05-10-21</td>\n",
       "      <td>English</td>\n",
       "      <td>4.5 out of 5 stars12 ratings</td>\n",
       "      <td>615.00</td>\n",
       "    </tr>\n",
       "  </tbody>\n",
       "</table>\n",
       "</div>"
      ],
      "text/plain": [
       "                         name                     author  \\\n",
       "0  Geronimo Stilton #11 & #12  Writtenby:GeronimoStilton   \n",
       "1            The Burning Maze      Writtenby:RickRiordan   \n",
       "2                The Deep End       Writtenby:JeffKinney   \n",
       "3        Daughter of the Deep      Writtenby:RickRiordan   \n",
       "\n",
       "                    narrator                time releasedate language  \\\n",
       "0      Narratedby:BillLobely   2 hrs and 20 mins    04-08-08  English   \n",
       "1   Narratedby:RobbieDaymond   13 hrs and 8 mins    01-05-18  English   \n",
       "2      Narratedby:DanRussell    2 hrs and 3 mins    06-11-20  English   \n",
       "3  Narratedby:SoneelaNankani  11 hrs and 16 mins    05-10-21  English   \n",
       "\n",
       "                          stars   price  \n",
       "0    5 out of 5 stars34 ratings  468.00  \n",
       "1  4.5 out of 5 stars41 ratings  820.00  \n",
       "2  4.5 out of 5 stars38 ratings  410.00  \n",
       "3  4.5 out of 5 stars12 ratings  615.00  "
      ]
     },
     "execution_count": 7,
     "metadata": {},
     "output_type": "execute_result"
    }
   ],
   "source": [
    "#preview of the data\n",
    "audible_data.head(4)"
   ]
  },
  {
   "cell_type": "markdown",
   "id": "271a8b5d",
   "metadata": {},
   "source": [
    "From the sample data above and information below, we can list out some inconsistencies in the dataframe.  \n",
    "1. **author-** \"Writtenby:\" can be removed; multiple author names can be placed in different columns.  \n",
    "2. **narrator-** \"Narratedby:\" can be removed.  \n",
    "3. **time-** is of type `str`; can be converted to numeric or datetime type. We'll see what should be done here.  \n",
    "4. **releasedate-** is of type `str`; should be of type `date`.  \n",
    "5. **language-** all values should be in uniform case; first letter capital, rest smallcase.  \n",
    "6. **stars-** can be split into i) number of stars and ii) total number of ratings columns.  \n",
    "7. **price-** is of type `str`; should be float."
   ]
  },
  {
   "cell_type": "code",
   "execution_count": 6,
   "id": "45b3b711",
   "metadata": {},
   "outputs": [
    {
     "name": "stdout",
     "output_type": "stream",
     "text": [
      "<class 'pandas.core.frame.DataFrame'>\n",
      "RangeIndex: 87489 entries, 0 to 87488\n",
      "Data columns (total 8 columns):\n",
      " #   Column       Non-Null Count  Dtype \n",
      "---  ------       --------------  ----- \n",
      " 0   name         87489 non-null  object\n",
      " 1   author       87489 non-null  object\n",
      " 2   narrator     87489 non-null  object\n",
      " 3   time         87489 non-null  object\n",
      " 4   releasedate  87489 non-null  object\n",
      " 5   language     87489 non-null  object\n",
      " 6   stars        87489 non-null  object\n",
      " 7   price        87489 non-null  object\n",
      "dtypes: object(8)\n",
      "memory usage: 5.3+ MB\n"
     ]
    }
   ],
   "source": [
    "#information about the data\n",
    "audible_data.info()"
   ]
  },
  {
   "cell_type": "code",
   "execution_count": 8,
   "id": "f62bf21b",
   "metadata": {},
   "outputs": [
    {
     "data": {
      "text/html": [
       "<div>\n",
       "<style scoped>\n",
       "    .dataframe tbody tr th:only-of-type {\n",
       "        vertical-align: middle;\n",
       "    }\n",
       "\n",
       "    .dataframe tbody tr th {\n",
       "        vertical-align: top;\n",
       "    }\n",
       "\n",
       "    .dataframe thead th {\n",
       "        text-align: right;\n",
       "    }\n",
       "</style>\n",
       "<table border=\"1\" class=\"dataframe\">\n",
       "  <thead>\n",
       "    <tr style=\"text-align: right;\">\n",
       "      <th></th>\n",
       "      <th>name</th>\n",
       "      <th>author</th>\n",
       "      <th>narrator</th>\n",
       "      <th>time</th>\n",
       "      <th>releasedate</th>\n",
       "      <th>language</th>\n",
       "      <th>stars</th>\n",
       "      <th>price</th>\n",
       "    </tr>\n",
       "  </thead>\n",
       "  <tbody>\n",
       "    <tr>\n",
       "      <th>count</th>\n",
       "      <td>87489</td>\n",
       "      <td>87489</td>\n",
       "      <td>87489</td>\n",
       "      <td>87489</td>\n",
       "      <td>87489</td>\n",
       "      <td>87489</td>\n",
       "      <td>87489</td>\n",
       "      <td>87489</td>\n",
       "    </tr>\n",
       "    <tr>\n",
       "      <th>unique</th>\n",
       "      <td>82767</td>\n",
       "      <td>48374</td>\n",
       "      <td>29717</td>\n",
       "      <td>2284</td>\n",
       "      <td>5058</td>\n",
       "      <td>36</td>\n",
       "      <td>665</td>\n",
       "      <td>1011</td>\n",
       "    </tr>\n",
       "    <tr>\n",
       "      <th>top</th>\n",
       "      <td>The Art of War</td>\n",
       "      <td>Writtenby:矢島雅弘,石橋遊</td>\n",
       "      <td>Narratedby:anonymous</td>\n",
       "      <td>2 mins</td>\n",
       "      <td>16-05-18</td>\n",
       "      <td>English</td>\n",
       "      <td>Not rated yet</td>\n",
       "      <td>586.00</td>\n",
       "    </tr>\n",
       "    <tr>\n",
       "      <th>freq</th>\n",
       "      <td>20</td>\n",
       "      <td>874</td>\n",
       "      <td>1034</td>\n",
       "      <td>372</td>\n",
       "      <td>773</td>\n",
       "      <td>61884</td>\n",
       "      <td>72417</td>\n",
       "      <td>5533</td>\n",
       "    </tr>\n",
       "  </tbody>\n",
       "</table>\n",
       "</div>"
      ],
      "text/plain": [
       "                  name              author              narrator    time  \\\n",
       "count            87489               87489                 87489   87489   \n",
       "unique           82767               48374                 29717    2284   \n",
       "top     The Art of War  Writtenby:矢島雅弘,石橋遊  Narratedby:anonymous  2 mins   \n",
       "freq                20                 874                  1034     372   \n",
       "\n",
       "       releasedate language          stars   price  \n",
       "count        87489    87489          87489   87489  \n",
       "unique        5058       36            665    1011  \n",
       "top       16-05-18  English  Not rated yet  586.00  \n",
       "freq           773    61884          72417    5533  "
      ]
     },
     "execution_count": 8,
     "metadata": {},
     "output_type": "execute_result"
    }
   ],
   "source": [
    "#stats\n",
    "audible_data.describe()"
   ]
  },
  {
   "cell_type": "markdown",
   "id": "36adfef4",
   "metadata": {},
   "source": [
    "<a id = \"1\"></a>\n",
    "## 1. How to check total count of each category?"
   ]
  },
  {
   "cell_type": "code",
   "execution_count": 9,
   "id": "af0ac7f7",
   "metadata": {},
   "outputs": [
    {
     "data": {
      "text/plain": [
       "The Art of War                 20\n",
       "Sterling Biographies           19\n",
       "The Odyssey                    16\n",
       "Sterling Point Books           16\n",
       "Hamlet                         15\n",
       "The Prophet                    14\n",
       "Pride and Prejudice            14\n",
       "A Christmas Carol              14\n",
       "The Iliad                      13\n",
       "As a Man Thinketh              13\n",
       "The Science of Getting Rich    13\n",
       "The Picture of Dorian Gray     12\n",
       "Abraham Lincoln                12\n",
       "Meditations                    11\n",
       "The Richest Man in Babylon     11\n",
       "The Raven                      11\n",
       "The Prince                     11\n",
       "Unstoppable                    10\n",
       "Name: name, dtype: int64"
      ]
     },
     "execution_count": 9,
     "metadata": {},
     "output_type": "execute_result"
    }
   ],
   "source": [
    "#checking number of occurances of books\n",
    "book_counts = audible_data['name'].value_counts()\n",
    "#list out books which have 10 or more occurances\n",
    "book_counts[book_counts >= 10]"
   ]
  },
  {
   "cell_type": "markdown",
   "id": "347148c4",
   "metadata": {},
   "source": [
    "<a id = \"2\"></a>\n",
    "## 2. How to check number of duplicate rows?"
   ]
  },
  {
   "cell_type": "code",
   "execution_count": 10,
   "id": "a09ef411",
   "metadata": {},
   "outputs": [
    {
     "data": {
      "text/plain": [
       "0"
      ]
     },
     "execution_count": 10,
     "metadata": {},
     "output_type": "execute_result"
    }
   ],
   "source": [
    "#check for duplicate rows\n",
    "audible_data.duplicated().sum()"
   ]
  },
  {
   "cell_type": "markdown",
   "id": "dbdd98f3",
   "metadata": {},
   "source": [
    "<a id = \"3\"></a>\n",
    "## 3. How to remove a string pattern?"
   ]
  },
  {
   "cell_type": "markdown",
   "id": "8c867116",
   "metadata": {},
   "source": [
    "Changes mades to the **author** column:  \n",
    "1. Removed \"Writtenby:\".  \n",
    "2. Add space between first, middle(if any) and last names of the authors.  \n",
    "3. Since some books have multiple authors, this column is split into multiple columns with 1 author name in each.  \n",
    "\n",
    "The 3rd step is optional.  \n",
    "I've added it here just to showcase how to split a text column into multiple columns, and assign column names automatically using prefixes like author1, author2 etc. "
   ]
  },
  {
   "cell_type": "code",
   "execution_count": 13,
   "id": "ed04750e",
   "metadata": {},
   "outputs": [],
   "source": [
    "#Author column\n",
    "#remove the phrase \"Writtenby:\"\n",
    "audible_data['author'] = audible_data['author'].str.replace(pat = \"Writtenby:\", repl = \"\")"
   ]
  },
  {
   "cell_type": "code",
   "execution_count": 14,
   "id": "44d1cd67",
   "metadata": {},
   "outputs": [
    {
     "data": {
      "text/plain": [
       "26665    AdrianLangenscheid\n",
       "83566        HeatherFawcett\n",
       "23713           PauldeKruif\n",
       "20365          H.A.L.Fisher\n",
       "60248      ArthurConanDoyle\n",
       "Name: author, dtype: object"
      ]
     },
     "execution_count": 14,
     "metadata": {},
     "output_type": "execute_result"
    }
   ],
   "source": [
    "#after removing \"Written By\", author column looks like:\n",
    "audible_data.author.sample(5)"
   ]
  },
  {
   "cell_type": "markdown",
   "id": "7b60f32b",
   "metadata": {},
   "source": [
    "<a id = \"4\"></a>\n",
    "## 4. How to add space between 2 or more word blocks? (here first, middle, last name)"
   ]
  },
  {
   "cell_type": "code",
   "execution_count": 15,
   "id": "12ee4ae6",
   "metadata": {},
   "outputs": [],
   "source": [
    "#Add space between the first, middle and last names of Authors.\n",
    "#e.g. JaneAustin becomes Jane Austin\n",
    "audible_data['author'] = audible_data['author'].str.replace(pat = r\"(\\w)([A-Z])\", repl = r\"\\1 \\2\", regex = True)"
   ]
  },
  {
   "cell_type": "code",
   "execution_count": 16,
   "id": "e4723106",
   "metadata": {},
   "outputs": [
    {
     "data": {
      "text/plain": [
       "47998                       Roald Dahl\n",
       "28575    Travis Nicholson,Oliver Walsh\n",
       "6387                          Sam Kean\n",
       "69583                  Charles Freeman\n",
       "22657                   Sarah Kendzior\n",
       "Name: author, dtype: object"
      ]
     },
     "execution_count": 16,
     "metadata": {},
     "output_type": "execute_result"
    }
   ],
   "source": [
    "audible_data.author.sample(5)"
   ]
  },
  {
   "cell_type": "markdown",
   "id": "abafad49",
   "metadata": {},
   "source": [
    "<a id = \"5\"></a>\n",
    "## 5. How to split a value into multiple columns and assign column name with prefix/suffix?"
   ]
  },
  {
   "cell_type": "code",
   "execution_count": 17,
   "id": "c9d39961",
   "metadata": {},
   "outputs": [],
   "source": [
    "audible_data2 = pd.concat( [audible_data['name'], \n",
    "                            #splits author into author1, author2 and author3.\n",
    "                            audible_data['author'].str.split(',', expand = True).add_prefix('author'),\n",
    "                            audible_data.loc[:,['narrator', 'time', 'releasedate', 'language', 'stars', 'price']]], \n",
    "                            axis = 1)"
   ]
  },
  {
   "cell_type": "markdown",
   "id": "2492630e",
   "metadata": {},
   "source": [
    "<a id = \"6\"></a>\n",
    "## 6. How to find total number of NA in each column?"
   ]
  },
  {
   "cell_type": "markdown",
   "id": "682a6cf9",
   "metadata": {},
   "source": [
    "Here, I wanted to see if it's at all useful to split the author column or not.  \n",
    "As we can see from the NA value counts below, the newly created columns ***author1, author2, author3*** are mostly vacant.  \n",
    "Majority of the books have only 1 author and about 14,000 books have 2 authors.  \n",
    "(Total number of unique books in the data- 82767\t)"
   ]
  },
  {
   "cell_type": "code",
   "execution_count": 18,
   "id": "5d12af59",
   "metadata": {
    "scrolled": true
   },
   "outputs": [
    {
     "data": {
      "text/plain": [
       "author0        0\n",
       "author1    73762\n",
       "author2    85135\n",
       "author3    86713\n",
       "dtype: int64"
      ]
     },
     "execution_count": 18,
     "metadata": {},
     "output_type": "execute_result"
    }
   ],
   "source": [
    "#number of missing values in author columns\n",
    "audible_data2.loc[:,['author0','author1','author2','author3']].isnull().sum()"
   ]
  },
  {
   "cell_type": "markdown",
   "id": "c5234585",
   "metadata": {},
   "source": [
    "#### Changes made to narrator column:  \n",
    "1. Removed \"Narratedby:\".  \n",
    "2. Add space between first, middle and last names of the narrator.  \n",
    "3. Here, I haven't split this column for multiple narrators.  \n"
   ]
  },
  {
   "cell_type": "code",
   "execution_count": 19,
   "id": "f42c1193",
   "metadata": {},
   "outputs": [],
   "source": [
    "#remove \"Narratedby:\" from Narrator column\n",
    "audible_data2['narrator'] = audible_data2['narrator'].str.replace(pat = \"Narratedby:\", repl = \"\")"
   ]
  },
  {
   "cell_type": "code",
   "execution_count": 20,
   "id": "bb392fda",
   "metadata": {},
   "outputs": [],
   "source": [
    "#add space between first and last name of the Narrator\n",
    "#e.g. JaneAustin becomes Jane Austin\n",
    "audible_data2['narrator'] = audible_data2['narrator'].str.replace(pat = r\"(\\w)([A-Z])\", repl = r\"\\1 \\2\", regex = True)"
   ]
  },
  {
   "cell_type": "code",
   "execution_count": 22,
   "id": "0eea7a15",
   "metadata": {},
   "outputs": [
    {
     "data": {
      "text/html": [
       "<div>\n",
       "<style scoped>\n",
       "    .dataframe tbody tr th:only-of-type {\n",
       "        vertical-align: middle;\n",
       "    }\n",
       "\n",
       "    .dataframe tbody tr th {\n",
       "        vertical-align: top;\n",
       "    }\n",
       "\n",
       "    .dataframe thead th {\n",
       "        text-align: right;\n",
       "    }\n",
       "</style>\n",
       "<table border=\"1\" class=\"dataframe\">\n",
       "  <thead>\n",
       "    <tr style=\"text-align: right;\">\n",
       "      <th></th>\n",
       "      <th>name</th>\n",
       "      <th>author0</th>\n",
       "      <th>author1</th>\n",
       "      <th>author2</th>\n",
       "      <th>author3</th>\n",
       "      <th>narrator</th>\n",
       "      <th>time</th>\n",
       "      <th>releasedate</th>\n",
       "      <th>language</th>\n",
       "      <th>stars</th>\n",
       "      <th>price</th>\n",
       "    </tr>\n",
       "  </thead>\n",
       "  <tbody>\n",
       "    <tr>\n",
       "      <th>87484</th>\n",
       "      <td>Last Days of the Bus Club</td>\n",
       "      <td>Chris Stewart</td>\n",
       "      <td>None</td>\n",
       "      <td>None</td>\n",
       "      <td>None</td>\n",
       "      <td>Chris Stewart</td>\n",
       "      <td>7 hrs and 34 mins</td>\n",
       "      <td>09-03-17</td>\n",
       "      <td>English</td>\n",
       "      <td>Not rated yet</td>\n",
       "      <td>596.00</td>\n",
       "    </tr>\n",
       "    <tr>\n",
       "      <th>87485</th>\n",
       "      <td>The Alps</td>\n",
       "      <td>Stephen O'Shea</td>\n",
       "      <td>None</td>\n",
       "      <td>None</td>\n",
       "      <td>None</td>\n",
       "      <td>Robert Fass</td>\n",
       "      <td>10 hrs and 7 mins</td>\n",
       "      <td>21-02-17</td>\n",
       "      <td>English</td>\n",
       "      <td>Not rated yet</td>\n",
       "      <td>820.00</td>\n",
       "    </tr>\n",
       "    <tr>\n",
       "      <th>87486</th>\n",
       "      <td>The Innocents Abroad</td>\n",
       "      <td>Mark Twain</td>\n",
       "      <td>None</td>\n",
       "      <td>None</td>\n",
       "      <td>None</td>\n",
       "      <td>Flo Gibson</td>\n",
       "      <td>19 hrs and 4 mins</td>\n",
       "      <td>30-12-16</td>\n",
       "      <td>English</td>\n",
       "      <td>Not rated yet</td>\n",
       "      <td>938.00</td>\n",
       "    </tr>\n",
       "    <tr>\n",
       "      <th>87487</th>\n",
       "      <td>A Sentimental Journey</td>\n",
       "      <td>Laurence Sterne</td>\n",
       "      <td>None</td>\n",
       "      <td>None</td>\n",
       "      <td>None</td>\n",
       "      <td>Anton Lesser</td>\n",
       "      <td>4 hrs and 8 mins</td>\n",
       "      <td>23-02-11</td>\n",
       "      <td>English</td>\n",
       "      <td>Not rated yet</td>\n",
       "      <td>680.00</td>\n",
       "    </tr>\n",
       "    <tr>\n",
       "      <th>87488</th>\n",
       "      <td>Havana</td>\n",
       "      <td>Mark Kurlansky</td>\n",
       "      <td>None</td>\n",
       "      <td>None</td>\n",
       "      <td>None</td>\n",
       "      <td>Fleet Cooper</td>\n",
       "      <td>6 hrs and 1 min</td>\n",
       "      <td>07-03-17</td>\n",
       "      <td>English</td>\n",
       "      <td>Not rated yet</td>\n",
       "      <td>569.00</td>\n",
       "    </tr>\n",
       "  </tbody>\n",
       "</table>\n",
       "</div>"
      ],
      "text/plain": [
       "                            name          author0 author1 author2 author3  \\\n",
       "87484  Last Days of the Bus Club    Chris Stewart    None    None    None   \n",
       "87485                   The Alps   Stephen O'Shea    None    None    None   \n",
       "87486       The Innocents Abroad       Mark Twain    None    None    None   \n",
       "87487      A Sentimental Journey  Laurence Sterne    None    None    None   \n",
       "87488                     Havana   Mark Kurlansky    None    None    None   \n",
       "\n",
       "            narrator               time releasedate language          stars  \\\n",
       "87484  Chris Stewart  7 hrs and 34 mins    09-03-17  English  Not rated yet   \n",
       "87485    Robert Fass  10 hrs and 7 mins    21-02-17  English  Not rated yet   \n",
       "87486     Flo Gibson  19 hrs and 4 mins    30-12-16  English  Not rated yet   \n",
       "87487   Anton Lesser   4 hrs and 8 mins    23-02-11  English  Not rated yet   \n",
       "87488   Fleet Cooper    6 hrs and 1 min    07-03-17  English  Not rated yet   \n",
       "\n",
       "        price  \n",
       "87484  596.00  \n",
       "87485  820.00  \n",
       "87486  938.00  \n",
       "87487  680.00  \n",
       "87488  569.00  "
      ]
     },
     "execution_count": 22,
     "metadata": {},
     "output_type": "execute_result"
    }
   ],
   "source": [
    "audible_data2.tail(5)"
   ]
  },
  {
   "cell_type": "markdown",
   "id": "4faf74c3",
   "metadata": {},
   "source": [
    "### Time column\n",
    "\n",
    "1. This column contains duration of audiobooks in text format.  \n",
    "2. Some rows contain 'xx hrs and yy mins' while others contain 'y mins', 'less than 1 minute' etc.  \n",
    "        In order to see all unique formats present, a copy of the time column has been created."
   ]
  },
  {
   "cell_type": "code",
   "execution_count": 92,
   "id": "c76307ee",
   "metadata": {},
   "outputs": [],
   "source": [
    "#make a copy of time column to understand all kind of formats in which data is present\n",
    "time_column = audible_data2['time']"
   ]
  },
  {
   "cell_type": "markdown",
   "id": "f170c6c4",
   "metadata": {},
   "source": [
    "All digits have been removed to see what all phrases are present."
   ]
  },
  {
   "cell_type": "code",
   "execution_count": 24,
   "id": "2883b802",
   "metadata": {},
   "outputs": [
    {
     "data": {
      "text/plain": [
       "0           hrs and  mins\n",
       "4                     hrs\n",
       "12           hrs and  min\n",
       "29           hr and  mins\n",
       "53                   mins\n",
       "227                    hr\n",
       "255           hr and  min\n",
       "1203                  min\n",
       "1401    Less than  minute\n",
       "Name: time, dtype: object"
      ]
     },
     "execution_count": 24,
     "metadata": {},
     "output_type": "execute_result"
    }
   ],
   "source": [
    "#replace all numbers with blanks\n",
    "time_column = time_column.str.replace(pat = r'[0-9]', repl = '', regex = True)\n",
    "#keep only unique patterns\n",
    "time_column.drop_duplicates()"
   ]
  },
  {
   "cell_type": "markdown",
   "id": "a0a2e92a",
   "metadata": {},
   "source": [
    "- **`Assumption:`** All rows with ***Less than xx minutes*** will be replaced with ***xx minutes***.  \n",
    "- Below, I've filtered out all row indices which have this 'less than..' values to see all distinct durations.  \n",
    "- Since only 1 unique value present, ***less than 1 minute***, it can be simply replaced with '1'.  \n",
    "- If other values were present like ***less than 5 minutes, less than 10 mins*** etc., then we would have used regular expressions to extract and store the digits."
   ]
  },
  {
   "cell_type": "code",
   "execution_count": 25,
   "id": "94a166f7",
   "metadata": {},
   "outputs": [
    {
     "data": {
      "text/plain": [
       "1401    Less than 1 minute\n",
       "Name: time, dtype: object"
      ]
     },
     "execution_count": 25,
     "metadata": {},
     "output_type": "execute_result"
    }
   ],
   "source": [
    "#find rows with \"less than x minute\" values in audiobook duration\n",
    "less_than_duration = audible_data2[audible_data2.time.str.contains(pat = 'less than', case = False)].index\n",
    "#check all unique values with 'less than' pattern\n",
    "audible_data2.time[less_than_duration].drop_duplicates()"
   ]
  },
  {
   "cell_type": "markdown",
   "id": "4bb49c9a",
   "metadata": {},
   "source": [
    "The objective is to:  \n",
    "1. Create 2 columns **`hour_component`** and **`min_component`** to store the hour and minute duration of the audiobook.  \n",
    "2. Examples:  \n",
    "     - ***'17 hrs and 5 mins'*** will split into 17 in hour column and 5 in minute column.  \n",
    "     - ***'24 mins'*** will be stored as 0 in hour column and 24 in minute column.  \n",
    "     - ***'less than 1 minute'*** will be stored as 0 in hour and 1 in minute column.\n",
    "        "
   ]
  },
  {
   "cell_type": "code",
   "execution_count": 26,
   "id": "a93334b2",
   "metadata": {},
   "outputs": [],
   "source": [
    "#create 2 columns- 1 for hour component and the other for minute component.\n",
    "audible_data2['hour_component'] = 0\n",
    "audible_data2['min_component'] = 0"
   ]
  },
  {
   "cell_type": "markdown",
   "id": "14884ae6",
   "metadata": {},
   "source": [
    "<a id = \"7\"></a>\n",
    "## 7. How to extract digits before a specifc word?"
   ]
  },
  {
   "cell_type": "markdown",
   "id": "f527cf40",
   "metadata": {},
   "source": [
    "Regular Expression used:  \n",
    "1. **\"^-\"** indicates start matching the pattern from beginning of the string.  \n",
    "2. **\"(\\d+)\"-** is the capture group. Means look for one or more digits.  \n",
    "3. **+** means one or more occurances of digits.  \n",
    "4. **\"(\\d+) hr\"** captures digits before the word hr or hrs.  \n",
    "5. **\"(\\d+) min\"** captures digits before min/mins/minutes words."
   ]
  },
  {
   "cell_type": "code",
   "execution_count": 27,
   "id": "691d1612",
   "metadata": {},
   "outputs": [],
   "source": [
    "#Extract the hour component of audiobook duration into hour column and minute into min_component column\n",
    "audible_data2['hour_component'] = audible_data2.time.str.extract(pat = r'^(\\d+) hr')\n",
    "audible_data2['min_component'] = audible_data2.time.str.extract(pat = r'(\\d+) min')"
   ]
  },
  {
   "cell_type": "code",
   "execution_count": 28,
   "id": "0e75fdf0",
   "metadata": {},
   "outputs": [
    {
     "data": {
      "text/html": [
       "<div>\n",
       "<style scoped>\n",
       "    .dataframe tbody tr th:only-of-type {\n",
       "        vertical-align: middle;\n",
       "    }\n",
       "\n",
       "    .dataframe tbody tr th {\n",
       "        vertical-align: top;\n",
       "    }\n",
       "\n",
       "    .dataframe thead th {\n",
       "        text-align: right;\n",
       "    }\n",
       "</style>\n",
       "<table border=\"1\" class=\"dataframe\">\n",
       "  <thead>\n",
       "    <tr style=\"text-align: right;\">\n",
       "      <th></th>\n",
       "      <th>time</th>\n",
       "      <th>hour_component</th>\n",
       "      <th>min_component</th>\n",
       "    </tr>\n",
       "  </thead>\n",
       "  <tbody>\n",
       "    <tr>\n",
       "      <th>976</th>\n",
       "      <td>5 hrs and 23 mins</td>\n",
       "      <td>5</td>\n",
       "      <td>23</td>\n",
       "    </tr>\n",
       "    <tr>\n",
       "      <th>44557</th>\n",
       "      <td>26 hrs and 28 mins</td>\n",
       "      <td>26</td>\n",
       "      <td>28</td>\n",
       "    </tr>\n",
       "    <tr>\n",
       "      <th>83223</th>\n",
       "      <td>4 hrs and 28 mins</td>\n",
       "      <td>4</td>\n",
       "      <td>28</td>\n",
       "    </tr>\n",
       "    <tr>\n",
       "      <th>23528</th>\n",
       "      <td>3 hrs and 39 mins</td>\n",
       "      <td>3</td>\n",
       "      <td>39</td>\n",
       "    </tr>\n",
       "    <tr>\n",
       "      <th>67605</th>\n",
       "      <td>7 hrs and 52 mins</td>\n",
       "      <td>7</td>\n",
       "      <td>52</td>\n",
       "    </tr>\n",
       "    <tr>\n",
       "      <th>69249</th>\n",
       "      <td>39 hrs and 54 mins</td>\n",
       "      <td>39</td>\n",
       "      <td>54</td>\n",
       "    </tr>\n",
       "  </tbody>\n",
       "</table>\n",
       "</div>"
      ],
      "text/plain": [
       "                     time hour_component min_component\n",
       "976     5 hrs and 23 mins              5            23\n",
       "44557  26 hrs and 28 mins             26            28\n",
       "83223   4 hrs and 28 mins              4            28\n",
       "23528   3 hrs and 39 mins              3            39\n",
       "67605   7 hrs and 52 mins              7            52\n",
       "69249  39 hrs and 54 mins             39            54"
      ]
     },
     "execution_count": 28,
     "metadata": {},
     "output_type": "execute_result"
    }
   ],
   "source": [
    "#preview of extracted time\n",
    "audible_data2.loc[:,['time', 'hour_component', 'min_component']].sample(6)"
   ]
  },
  {
   "cell_type": "markdown",
   "id": "202abd9c",
   "metadata": {},
   "source": [
    "<a id = \"8\"></a>\n",
    "## 8. How to convert NaN values to 0?"
   ]
  },
  {
   "cell_type": "markdown",
   "id": "7bfb3ddb",
   "metadata": {},
   "source": [
    "Now, after digits extraction, values like ***'24 mins'*** will keep 24 in minute column and NaN in hour column.  \n",
    "Similarly, a value like ***'11 hrs'*** will keep NaN in minutes column.  \n",
    "Below, these NaN values have been replaced with 0."
   ]
  },
  {
   "cell_type": "code",
   "execution_count": 29,
   "id": "9eb8ba32",
   "metadata": {},
   "outputs": [],
   "source": [
    "#convert all NaN values in hour and minute component column to 0\n",
    "audible_data2['hour_component'] = audible_data2['hour_component'].fillna(0)\n",
    "audible_data2['min_component'] = audible_data2['min_component'].fillna(0)"
   ]
  },
  {
   "cell_type": "code",
   "execution_count": 31,
   "id": "531c63c8",
   "metadata": {},
   "outputs": [
    {
     "data": {
      "text/html": [
       "<div>\n",
       "<style scoped>\n",
       "    .dataframe tbody tr th:only-of-type {\n",
       "        vertical-align: middle;\n",
       "    }\n",
       "\n",
       "    .dataframe tbody tr th {\n",
       "        vertical-align: top;\n",
       "    }\n",
       "\n",
       "    .dataframe thead th {\n",
       "        text-align: right;\n",
       "    }\n",
       "</style>\n",
       "<table border=\"1\" class=\"dataframe\">\n",
       "  <thead>\n",
       "    <tr style=\"text-align: right;\">\n",
       "      <th></th>\n",
       "      <th>time</th>\n",
       "      <th>hour_component</th>\n",
       "      <th>min_component</th>\n",
       "    </tr>\n",
       "  </thead>\n",
       "  <tbody>\n",
       "    <tr>\n",
       "      <th>328</th>\n",
       "      <td>11 mins</td>\n",
       "      <td>0</td>\n",
       "      <td>11</td>\n",
       "    </tr>\n",
       "    <tr>\n",
       "      <th>5532</th>\n",
       "      <td>12 mins</td>\n",
       "      <td>0</td>\n",
       "      <td>12</td>\n",
       "    </tr>\n",
       "    <tr>\n",
       "      <th>1583</th>\n",
       "      <td>5 mins</td>\n",
       "      <td>0</td>\n",
       "      <td>5</td>\n",
       "    </tr>\n",
       "  </tbody>\n",
       "</table>\n",
       "</div>"
      ],
      "text/plain": [
       "         time hour_component min_component\n",
       "328   11 mins              0            11\n",
       "5532  12 mins              0            12\n",
       "1583   5 mins              0             5"
      ]
     },
     "execution_count": 31,
     "metadata": {},
     "output_type": "execute_result"
    }
   ],
   "source": [
    "#sample preview-- some random indices to show how values are tranformed\n",
    "audible_data2.loc[[328,5532,1583], ['time', 'hour_component', 'min_component']]"
   ]
  },
  {
   "cell_type": "markdown",
   "id": "b5de8e6d",
   "metadata": {},
   "source": [
    "<a id = \"9\"></a>\n",
    "## 9. How to change the datatype of multiple columns?\n",
    "\n",
    "Now, we can change the datatype of hour and minutes from strings to integers. "
   ]
  },
  {
   "cell_type": "code",
   "execution_count": 32,
   "id": "f5c458d1",
   "metadata": {},
   "outputs": [],
   "source": [
    "#convert the hour and min column to int type\n",
    "audible_data2 = audible_data2.astype({'hour_component':'int','min_component':'int'})"
   ]
  },
  {
   "cell_type": "code",
   "execution_count": 33,
   "id": "cc9abf66",
   "metadata": {},
   "outputs": [
    {
     "name": "stdout",
     "output_type": "stream",
     "text": [
      "<class 'pandas.core.frame.DataFrame'>\n",
      "RangeIndex: 87489 entries, 0 to 87488\n",
      "Data columns (total 13 columns):\n",
      " #   Column          Non-Null Count  Dtype \n",
      "---  ------          --------------  ----- \n",
      " 0   name            87489 non-null  object\n",
      " 1   author0         87489 non-null  object\n",
      " 2   author1         13727 non-null  object\n",
      " 3   author2         2354 non-null   object\n",
      " 4   author3         776 non-null    object\n",
      " 5   narrator        87489 non-null  object\n",
      " 6   time            87489 non-null  object\n",
      " 7   releasedate     87489 non-null  object\n",
      " 8   language        87489 non-null  object\n",
      " 9   stars           87489 non-null  object\n",
      " 10  price           87489 non-null  object\n",
      " 11  hour_component  87489 non-null  int32 \n",
      " 12  min_component   87489 non-null  int32 \n",
      "dtypes: int32(2), object(11)\n",
      "memory usage: 8.0+ MB\n"
     ]
    }
   ],
   "source": [
    "audible_data2.info()"
   ]
  },
  {
   "cell_type": "markdown",
   "id": "2a3c03b5",
   "metadata": {},
   "source": [
    "### Date column\n",
    "\n",
    "Dates are written in dd-mm-yy format.  \n",
    "They are in character format and will be converted to date type.  \n",
    "But before that, we need to make sure that each of the components are consistent. That is:  \n",
    "    - **dd** doesn't exceed 31.  \n",
    "    - **mm** doesn't exceed 12.  \n",
    "    - In the [datacard](https://www.kaggle.com/datasets/snehangsude/audible-dataset/data) on Audible dataset page, its mentioned that some books are yet to be released, which means we can have year value greater than 2023."
   ]
  },
  {
   "cell_type": "code",
   "execution_count": 35,
   "id": "c0528f24",
   "metadata": {
    "scrolled": true
   },
   "outputs": [
    {
     "data": {
      "text/plain": [
       "22624    01-05-12\n",
       "65185    07-07-21\n",
       "47740    14-09-21\n",
       "8098     02-09-21\n",
       "10972    11-10-11\n",
       "Name: releasedate, dtype: object"
      ]
     },
     "execution_count": 35,
     "metadata": {},
     "output_type": "execute_result"
    }
   ],
   "source": [
    "audible_data2.releasedate.sample(5)"
   ]
  },
  {
   "cell_type": "markdown",
   "id": "3033e3ec",
   "metadata": {},
   "source": [
    "<a id = \"10\"></a>\n",
    "## 10. How to check for inconsistencies in date column stored as a string?"
   ]
  },
  {
   "cell_type": "markdown",
   "id": "9d359b39",
   "metadata": {},
   "source": [
    "Regular expressions used:  \n",
    "1. **\"^(\\d+)\"-** check for the digit from beginning of string (^) and before hypher -.  \n",
    "2. **\"-(\\d+)-\"** check for the digits between the two hyphens.  \n",
    "3. **\"-(\\d+)\\$\"-** capture the digits after hyphen sign and end of the string. "
   ]
  },
  {
   "cell_type": "code",
   "execution_count": 40,
   "id": "7f2eb840",
   "metadata": {},
   "outputs": [
    {
     "data": {
      "text/plain": [
       "False"
      ]
     },
     "execution_count": 40,
     "metadata": {},
     "output_type": "execute_result"
    }
   ],
   "source": [
    "#day component- dd\n",
    "#check if any value in day part > 31.\n",
    "any(audible_data2.releasedate.str.extract(pat = r'^(\\d+)-').drop_duplicates().astype(int) > 31)"
   ]
  },
  {
   "cell_type": "code",
   "execution_count": 41,
   "id": "d3f2f4f6",
   "metadata": {},
   "outputs": [
    {
     "data": {
      "text/plain": [
       "False"
      ]
     },
     "execution_count": 41,
     "metadata": {},
     "output_type": "execute_result"
    }
   ],
   "source": [
    "#check for inconsistencies in month of release date\n",
    "#Check to see whether middle values (months) contain any number > 12\n",
    "#all unique months. \n",
    "any((audible_data2.releasedate.str.extract(pat = r'-(\\d+)-').drop_duplicates()).astype(int) > 12)"
   ]
  },
  {
   "cell_type": "code",
   "execution_count": 42,
   "id": "855aee97",
   "metadata": {},
   "outputs": [
    {
     "data": {
      "text/html": [
       "<div>\n",
       "<style scoped>\n",
       "    .dataframe tbody tr th:only-of-type {\n",
       "        vertical-align: middle;\n",
       "    }\n",
       "\n",
       "    .dataframe tbody tr th {\n",
       "        vertical-align: top;\n",
       "    }\n",
       "\n",
       "    .dataframe thead th {\n",
       "        text-align: right;\n",
       "    }\n",
       "</style>\n",
       "<table border=\"1\" class=\"dataframe\">\n",
       "  <thead>\n",
       "    <tr style=\"text-align: right;\">\n",
       "      <th></th>\n",
       "      <th>0</th>\n",
       "    </tr>\n",
       "  </thead>\n",
       "  <tbody>\n",
       "    <tr>\n",
       "      <th>0</th>\n",
       "      <td>08</td>\n",
       "    </tr>\n",
       "    <tr>\n",
       "      <th>1</th>\n",
       "      <td>18</td>\n",
       "    </tr>\n",
       "    <tr>\n",
       "      <th>2</th>\n",
       "      <td>20</td>\n",
       "    </tr>\n",
       "    <tr>\n",
       "      <th>3</th>\n",
       "      <td>21</td>\n",
       "    </tr>\n",
       "    <tr>\n",
       "      <th>4</th>\n",
       "      <td>10</td>\n",
       "    </tr>\n",
       "    <tr>\n",
       "      <th>6</th>\n",
       "      <td>14</td>\n",
       "    </tr>\n",
       "    <tr>\n",
       "      <th>7</th>\n",
       "      <td>17</td>\n",
       "    </tr>\n",
       "    <tr>\n",
       "      <th>9</th>\n",
       "      <td>19</td>\n",
       "    </tr>\n",
       "    <tr>\n",
       "      <th>11</th>\n",
       "      <td>11</td>\n",
       "    </tr>\n",
       "    <tr>\n",
       "      <th>16</th>\n",
       "      <td>04</td>\n",
       "    </tr>\n",
       "    <tr>\n",
       "      <th>21</th>\n",
       "      <td>09</td>\n",
       "    </tr>\n",
       "    <tr>\n",
       "      <th>22</th>\n",
       "      <td>13</td>\n",
       "    </tr>\n",
       "    <tr>\n",
       "      <th>25</th>\n",
       "      <td>03</td>\n",
       "    </tr>\n",
       "    <tr>\n",
       "      <th>31</th>\n",
       "      <td>05</td>\n",
       "    </tr>\n",
       "    <tr>\n",
       "      <th>37</th>\n",
       "      <td>16</td>\n",
       "    </tr>\n",
       "    <tr>\n",
       "      <th>39</th>\n",
       "      <td>15</td>\n",
       "    </tr>\n",
       "    <tr>\n",
       "      <th>61</th>\n",
       "      <td>22</td>\n",
       "    </tr>\n",
       "    <tr>\n",
       "      <th>64</th>\n",
       "      <td>12</td>\n",
       "    </tr>\n",
       "    <tr>\n",
       "      <th>84</th>\n",
       "      <td>07</td>\n",
       "    </tr>\n",
       "    <tr>\n",
       "      <th>343</th>\n",
       "      <td>06</td>\n",
       "    </tr>\n",
       "    <tr>\n",
       "      <th>968</th>\n",
       "      <td>00</td>\n",
       "    </tr>\n",
       "    <tr>\n",
       "      <th>2328</th>\n",
       "      <td>02</td>\n",
       "    </tr>\n",
       "    <tr>\n",
       "      <th>2812</th>\n",
       "      <td>99</td>\n",
       "    </tr>\n",
       "    <tr>\n",
       "      <th>3715</th>\n",
       "      <td>01</td>\n",
       "    </tr>\n",
       "    <tr>\n",
       "      <th>23039</th>\n",
       "      <td>98</td>\n",
       "    </tr>\n",
       "    <tr>\n",
       "      <th>50810</th>\n",
       "      <td>23</td>\n",
       "    </tr>\n",
       "    <tr>\n",
       "      <th>82791</th>\n",
       "      <td>24</td>\n",
       "    </tr>\n",
       "    <tr>\n",
       "      <th>82959</th>\n",
       "      <td>25</td>\n",
       "    </tr>\n",
       "  </tbody>\n",
       "</table>\n",
       "</div>"
      ],
      "text/plain": [
       "        0\n",
       "0      08\n",
       "1      18\n",
       "2      20\n",
       "3      21\n",
       "4      10\n",
       "6      14\n",
       "7      17\n",
       "9      19\n",
       "11     11\n",
       "16     04\n",
       "21     09\n",
       "22     13\n",
       "25     03\n",
       "31     05\n",
       "37     16\n",
       "39     15\n",
       "61     22\n",
       "64     12\n",
       "84     07\n",
       "343    06\n",
       "968    00\n",
       "2328   02\n",
       "2812   99\n",
       "3715   01\n",
       "23039  98\n",
       "50810  23\n",
       "82791  24\n",
       "82959  25"
      ]
     },
     "execution_count": 42,
     "metadata": {},
     "output_type": "execute_result"
    }
   ],
   "source": [
    "#check inconsistencies in year value of release date\n",
    "#future release date is also present, hence values 25 for year 2025, 24 for year 2024...\n",
    "audible_data2.releasedate.str.extract(pat = r'-(\\d+)$').drop_duplicates()"
   ]
  },
  {
   "cell_type": "markdown",
   "id": "e8bd449c",
   "metadata": {},
   "source": [
    "<a id = \"11\"></a>\n",
    "## 11. How to convert date stored as string to 'date' type? \n",
    "\n",
    "Note: Check the separator used between day, month and year.  \n",
    "\n",
    "- If date is like- 02/10/2023, use the format- **%d/%m/%Y**.  \n",
    "- If date is like- 02-10-2023, use the format- **%d-%m-%Y**.  \n",
    "- If year has 2 digits as in 02-10-23, use format- **%d-%m-%y**.  \n",
    "- If year has 4 digits as in 02-10-2023, use Y in capital- **%d-%m-%Y**."
   ]
  },
  {
   "cell_type": "code",
   "execution_count": 43,
   "id": "094693e7",
   "metadata": {},
   "outputs": [],
   "source": [
    "#convert release-date from string to date type\n",
    "audible_data2.releasedate = pd.to_datetime(audible_data2.releasedate, format = '%d-%m-%y')"
   ]
  },
  {
   "cell_type": "code",
   "execution_count": 44,
   "id": "a019a914",
   "metadata": {
    "scrolled": true
   },
   "outputs": [
    {
     "name": "stdout",
     "output_type": "stream",
     "text": [
      "<class 'pandas.core.frame.DataFrame'>\n",
      "RangeIndex: 87489 entries, 0 to 87488\n",
      "Data columns (total 13 columns):\n",
      " #   Column          Non-Null Count  Dtype         \n",
      "---  ------          --------------  -----         \n",
      " 0   name            87489 non-null  object        \n",
      " 1   author0         87489 non-null  object        \n",
      " 2   author1         13727 non-null  object        \n",
      " 3   author2         2354 non-null   object        \n",
      " 4   author3         776 non-null    object        \n",
      " 5   narrator        87489 non-null  object        \n",
      " 6   time            87489 non-null  object        \n",
      " 7   releasedate     87489 non-null  datetime64[ns]\n",
      " 8   language        87489 non-null  object        \n",
      " 9   stars           87489 non-null  object        \n",
      " 10  price           87489 non-null  object        \n",
      " 11  hour_component  87489 non-null  int32         \n",
      " 12  min_component   87489 non-null  int32         \n",
      "dtypes: datetime64[ns](1), int32(2), object(10)\n",
      "memory usage: 8.0+ MB\n"
     ]
    }
   ],
   "source": [
    "audible_data2.info()"
   ]
  },
  {
   "cell_type": "markdown",
   "id": "1e221410",
   "metadata": {},
   "source": [
    "<a id = \"12\"></a>\n",
    "## 12. How to convert text to one uniform case? "
   ]
  },
  {
   "cell_type": "code",
   "execution_count": 45,
   "id": "e9598654",
   "metadata": {},
   "outputs": [
    {
     "name": "stdout",
     "output_type": "stream",
     "text": [
      "['English', 'Hindi', 'spanish', 'german', 'french', 'catalan', 'swedish', 'italian', 'danish', 'finnish', 'dutch', 'hebrew', 'russian', 'polish', 'galician', 'afrikaans', 'icelandic', 'romanian', 'japanese', 'tamil', 'portuguese', 'urdu', 'hungarian', 'czech', 'bulgarian', 'mandarin_chinese', 'basque', 'korean', 'arabic', 'greek', 'turkish', 'ukrainian', 'slovene', 'norwegian', 'telugu', 'lithuanian']\n"
     ]
    }
   ],
   "source": [
    "#language column\n",
    "print(audible_data2.language.drop_duplicates().tolist())"
   ]
  },
  {
   "cell_type": "code",
   "execution_count": 46,
   "id": "fbde56f3",
   "metadata": {},
   "outputs": [],
   "source": [
    "#make language names uniform by capitalizing the first letter.\n",
    "audible_data2.language = audible_data2.language.str.title()"
   ]
  },
  {
   "cell_type": "markdown",
   "id": "66585044",
   "metadata": {},
   "source": [
    "### Stars column"
   ]
  },
  {
   "cell_type": "markdown",
   "id": "4ee0de64",
   "metadata": {},
   "source": [
    "<a id = \"13\"></a>\n",
    "## 13. How to split a text column with a specific word acting as separator?"
   ]
  },
  {
   "cell_type": "markdown",
   "id": "66d37055",
   "metadata": {},
   "source": [
    "The objective is to create 2 columns out of the stars column:  \n",
    "- **`stars_out_of_5`-** will contain numeric values like 2, 4.5 etc.  \n",
    "- **`total_ratings`-** total number of reviews received on the particular audiobook.   \n",
    "\n",
    "- Example: ***4.5 out of 5 stars7 ratings*** \n",
    "<br>\n",
    "- This column will be split after the word 'stars'.  \n",
    "- Then the first number before **'out'** will be extracted and converted to float type.  \n",
    "- In the `total_ratings` column, **\"ratings\"** will be removed and values will be converted to float type.  "
   ]
  },
  {
   "cell_type": "code",
   "execution_count": 47,
   "id": "760854d2",
   "metadata": {},
   "outputs": [
    {
     "data": {
      "text/plain": [
       "19265                  Not rated yet\n",
       "71010                  Not rated yet\n",
       "53743                  Not rated yet\n",
       "44762    4.5 out of 5 stars7 ratings\n",
       "57766                  Not rated yet\n",
       "Name: stars, dtype: object"
      ]
     },
     "execution_count": 47,
     "metadata": {},
     "output_type": "execute_result"
    }
   ],
   "source": [
    "#unique stars\n",
    "audible_data2.stars.sample(5)"
   ]
  },
  {
   "cell_type": "code",
   "execution_count": 48,
   "id": "1e68b657",
   "metadata": {},
   "outputs": [],
   "source": [
    "#split stars column into 2\n",
    "audible_data2[['stars_out_of_5', 'total_ratings']] = audible_data2.stars.str.split('stars', expand = True)"
   ]
  },
  {
   "cell_type": "code",
   "execution_count": 51,
   "id": "f55e14ee",
   "metadata": {},
   "outputs": [
    {
     "data": {
      "text/html": [
       "<div>\n",
       "<style scoped>\n",
       "    .dataframe tbody tr th:only-of-type {\n",
       "        vertical-align: middle;\n",
       "    }\n",
       "\n",
       "    .dataframe tbody tr th {\n",
       "        vertical-align: top;\n",
       "    }\n",
       "\n",
       "    .dataframe thead th {\n",
       "        text-align: right;\n",
       "    }\n",
       "</style>\n",
       "<table border=\"1\" class=\"dataframe\">\n",
       "  <thead>\n",
       "    <tr style=\"text-align: right;\">\n",
       "      <th></th>\n",
       "      <th>stars</th>\n",
       "      <th>stars_out_of_5</th>\n",
       "      <th>total_ratings</th>\n",
       "    </tr>\n",
       "  </thead>\n",
       "  <tbody>\n",
       "    <tr>\n",
       "      <th>0</th>\n",
       "      <td>5 out of 5 stars34 ratings</td>\n",
       "      <td>5 out of 5</td>\n",
       "      <td>34 ratings</td>\n",
       "    </tr>\n",
       "    <tr>\n",
       "      <th>1</th>\n",
       "      <td>4.5 out of 5 stars41 ratings</td>\n",
       "      <td>4.5 out of 5</td>\n",
       "      <td>41 ratings</td>\n",
       "    </tr>\n",
       "    <tr>\n",
       "      <th>2</th>\n",
       "      <td>4.5 out of 5 stars38 ratings</td>\n",
       "      <td>4.5 out of 5</td>\n",
       "      <td>38 ratings</td>\n",
       "    </tr>\n",
       "    <tr>\n",
       "      <th>3</th>\n",
       "      <td>4.5 out of 5 stars12 ratings</td>\n",
       "      <td>4.5 out of 5</td>\n",
       "      <td>12 ratings</td>\n",
       "    </tr>\n",
       "  </tbody>\n",
       "</table>\n",
       "</div>"
      ],
      "text/plain": [
       "                          stars stars_out_of_5 total_ratings\n",
       "0    5 out of 5 stars34 ratings    5 out of 5     34 ratings\n",
       "1  4.5 out of 5 stars41 ratings  4.5 out of 5     41 ratings\n",
       "2  4.5 out of 5 stars38 ratings  4.5 out of 5     38 ratings\n",
       "3  4.5 out of 5 stars12 ratings  4.5 out of 5     12 ratings"
      ]
     },
     "execution_count": 51,
     "metadata": {},
     "output_type": "execute_result"
    }
   ],
   "source": [
    "#glimpse of the separated values\n",
    "audible_data2.loc[:,['stars','stars_out_of_5', 'total_ratings']].head(4)"
   ]
  },
  {
   "cell_type": "markdown",
   "id": "95c5d7f5",
   "metadata": {},
   "source": [
    "The value ***\"Not rated yet\"*** is being replaced with NA. "
   ]
  },
  {
   "cell_type": "code",
   "execution_count": null,
   "id": "ac5503a1",
   "metadata": {},
   "outputs": [],
   "source": [
    "#replace 'Not rated yet' rows with NA\n",
    "\n",
    "#rows with not yet rated value\n",
    "not_rated_rows = audible_data2[audible_data2.stars_out_of_5.str.contains(pat = 'Not rated yet', case = False)].index\n",
    "#replace 'Not yet rated' and 'None' with NA\n",
    "audible_data2.loc[not_rated_rows,['stars_out_of_5', 'total_ratings']] = np.nan"
   ]
  },
  {
   "cell_type": "markdown",
   "id": "8d963db4",
   "metadata": {},
   "source": [
    "#### Steps taken below:  \n",
    "\n",
    "1. Remove ***'out of 5'*** from `stars_out_of_5` column to retain only the digit part.  \n",
    "2. Remove ***'ratings'*** from `total_ratings` column to retain only the numeric part.  \n",
    "3. Remove commas from values like ***1,500*** in `total_ratings` column. (Bcz this column has to be converted to numeric.)"
   ]
  },
  {
   "cell_type": "code",
   "execution_count": 54,
   "id": "9091e7c0",
   "metadata": {},
   "outputs": [],
   "source": [
    "#replace 'out of 5' with ''\n",
    "audible_data2.stars_out_of_5 = audible_data2.stars_out_of_5.str.replace(pat = ' out of 5', repl = '')\n",
    "#replace 'ratings' with ''\n",
    "audible_data2.total_ratings = audible_data2.total_ratings.str.replace(pat = r' ratings| rating', repl = '', regex = True)\n",
    "#remove ',' from ratings. e.g. 1,200 becomes 1200\n",
    "audible_data2.total_ratings = audible_data2.total_ratings.str.replace(pat = ',', repl = '')"
   ]
  },
  {
   "cell_type": "markdown",
   "id": "3cc788af",
   "metadata": {},
   "source": [
    "**NOTE:** **`total_ratings`** has been converted to float and not int because it contains NaN values (for rows with \"not rated yet\" books). Converting this column to int throws error."
   ]
  },
  {
   "cell_type": "code",
   "execution_count": 57,
   "id": "dbddd16f",
   "metadata": {},
   "outputs": [],
   "source": [
    "#convert both columns to float type\n",
    "audible_data2 = audible_data2.astype({'stars_out_of_5':'float', 'total_ratings':'float'})"
   ]
  },
  {
   "cell_type": "markdown",
   "id": "23554ef7",
   "metadata": {},
   "source": [
    "### Price column  \n",
    "\n",
    "#### Steps taken:\n",
    "\n",
    "1. Replace 'Free' with 0.  \n",
    "2. Remove commas from prices. Currently, this column is of type str; it has to be converted to numeric.  \n",
    "3. Convert to float."
   ]
  },
  {
   "cell_type": "code",
   "execution_count": null,
   "id": "8a5a9f40",
   "metadata": {},
   "outputs": [],
   "source": [
    "#convert price to float type\n",
    "\n",
    "#replace 'free' with 0\n",
    "audible_data2.price = audible_data2.price.str.replace(pat = 'free', repl = '0', case = False)\n",
    "#remove ',' from the values\n",
    "audible_data2.price = audible_data2.price.str.replace(pat = ',', repl = '')\n",
    "#convert to float\n",
    "audible_data2.price = audible_data2.price.astype(float)"
   ]
  },
  {
   "cell_type": "markdown",
   "id": "2c4fbf2f",
   "metadata": {},
   "source": [
    "I've renamed some columns just to maintain consistency."
   ]
  },
  {
   "cell_type": "code",
   "execution_count": 59,
   "id": "8e91412b",
   "metadata": {},
   "outputs": [],
   "source": [
    "#rename columns author0 to author1, author1 to author2 etc.\n",
    "audible_data2.rename(columns = {'author0':'author_1', 'author1':'author_2', 'author2':'author_3', 'author3':'author_4',\n",
    "                               'releasedate': 'release_date'}, inplace = True)"
   ]
  },
  {
   "cell_type": "markdown",
   "id": "b3a35ff8",
   "metadata": {},
   "source": [
    "And finally, I've created a subset of the dataframe with all relevant columns."
   ]
  },
  {
   "cell_type": "code",
   "execution_count": 61,
   "id": "4f9ad3b7",
   "metadata": {},
   "outputs": [],
   "source": [
    "#final dataframe with relevant columns\n",
    "cleaned_df = audible_data2.loc[:,['name', 'author_1', 'author_2', 'author_3', 'author_4', 'narrator', 'release_date',\n",
    "                                 'hour_component', 'min_component', 'language', 'stars_out_of_5', 'total_ratings', 'price']]"
   ]
  },
  {
   "cell_type": "code",
   "execution_count": 62,
   "id": "cd22fa47",
   "metadata": {},
   "outputs": [
    {
     "data": {
      "text/html": [
       "<div>\n",
       "<style scoped>\n",
       "    .dataframe tbody tr th:only-of-type {\n",
       "        vertical-align: middle;\n",
       "    }\n",
       "\n",
       "    .dataframe tbody tr th {\n",
       "        vertical-align: top;\n",
       "    }\n",
       "\n",
       "    .dataframe thead th {\n",
       "        text-align: right;\n",
       "    }\n",
       "</style>\n",
       "<table border=\"1\" class=\"dataframe\">\n",
       "  <thead>\n",
       "    <tr style=\"text-align: right;\">\n",
       "      <th></th>\n",
       "      <th>name</th>\n",
       "      <th>author_1</th>\n",
       "      <th>author_2</th>\n",
       "      <th>author_3</th>\n",
       "      <th>author_4</th>\n",
       "      <th>narrator</th>\n",
       "      <th>release_date</th>\n",
       "      <th>hour_component</th>\n",
       "      <th>min_component</th>\n",
       "      <th>language</th>\n",
       "      <th>stars_out_of_5</th>\n",
       "      <th>total_ratings</th>\n",
       "      <th>price</th>\n",
       "    </tr>\n",
       "  </thead>\n",
       "  <tbody>\n",
       "    <tr>\n",
       "      <th>0</th>\n",
       "      <td>Geronimo Stilton #11 &amp; #12</td>\n",
       "      <td>Geronimo Stilton</td>\n",
       "      <td>None</td>\n",
       "      <td>None</td>\n",
       "      <td>None</td>\n",
       "      <td>Bill Lobely</td>\n",
       "      <td>2008-08-04</td>\n",
       "      <td>2</td>\n",
       "      <td>20</td>\n",
       "      <td>English</td>\n",
       "      <td>5.0</td>\n",
       "      <td>34.0</td>\n",
       "      <td>468.00</td>\n",
       "    </tr>\n",
       "    <tr>\n",
       "      <th>1</th>\n",
       "      <td>The Burning Maze</td>\n",
       "      <td>Rick Riordan</td>\n",
       "      <td>None</td>\n",
       "      <td>None</td>\n",
       "      <td>None</td>\n",
       "      <td>Robbie Daymond</td>\n",
       "      <td>2018-05-01</td>\n",
       "      <td>13</td>\n",
       "      <td>8</td>\n",
       "      <td>English</td>\n",
       "      <td>4.5</td>\n",
       "      <td>41.0</td>\n",
       "      <td>820.00</td>\n",
       "    </tr>\n",
       "    <tr>\n",
       "      <th>2</th>\n",
       "      <td>The Deep End</td>\n",
       "      <td>Jeff Kinney</td>\n",
       "      <td>None</td>\n",
       "      <td>None</td>\n",
       "      <td>None</td>\n",
       "      <td>Dan Russell</td>\n",
       "      <td>2020-11-06</td>\n",
       "      <td>2</td>\n",
       "      <td>3</td>\n",
       "      <td>English</td>\n",
       "      <td>4.5</td>\n",
       "      <td>38.0</td>\n",
       "      <td>410.00</td>\n",
       "    </tr>\n",
       "  </tbody>\n",
       "</table>\n",
       "</div>"
      ],
      "text/plain": [
       "                         name          author_1 author_2 author_3 author_4  \\\n",
       "0  Geronimo Stilton #11 & #12  Geronimo Stilton     None     None     None   \n",
       "1            The Burning Maze      Rick Riordan     None     None     None   \n",
       "2                The Deep End       Jeff Kinney     None     None     None   \n",
       "\n",
       "         narrator release_date  hour_component  min_component language  \\\n",
       "0     Bill Lobely   2008-08-04               2             20  English   \n",
       "1  Robbie Daymond   2018-05-01              13              8  English   \n",
       "2     Dan Russell   2020-11-06               2              3  English   \n",
       "\n",
       "   stars_out_of_5  total_ratings   price  \n",
       "0             5.0           34.0  468.00  \n",
       "1             4.5           41.0  820.00  \n",
       "2             4.5           38.0  410.00  "
      ]
     },
     "execution_count": 62,
     "metadata": {},
     "output_type": "execute_result"
    }
   ],
   "source": [
    "cleaned_df.head(3)"
   ]
  },
  {
   "cell_type": "markdown",
   "id": "2e558d6f",
   "metadata": {},
   "source": [
    "<a id = \"14\"></a>\n",
    "## 14. How to extract decimal numbers from a text?\n",
    "\n",
    "I used this step in initial phase of cleaning this dataframe, but then dropped it from the final draft.  \n",
    "But since this notebook contains \"How To..\" steps, I've mentioned this step below just for the sake of future reference."
   ]
  },
  {
   "cell_type": "markdown",
   "id": "5a320c41",
   "metadata": {},
   "source": [
    "1. **`stars_out_of_5` column-** example- ***4.5 out of 5***.\n",
    "     - **What I've done above**- replace 'out of 5' with '', then convert 4.5 from string to float.  \n",
    "     - **Another way**- extract the floating-point number from this text, i.e. 4.5 and then convert it to float.\n",
    "     "
   ]
  },
  {
   "cell_type": "code",
   "execution_count": 63,
   "id": "4cd765b5",
   "metadata": {},
   "outputs": [],
   "source": [
    "#example\n",
    "ratings = pd.Series(['4.5 out of 5', '3 out of 5', '.5 out of 5'])"
   ]
  },
  {
   "cell_type": "markdown",
   "id": "641acc47",
   "metadata": {},
   "source": [
    "Regular expression used:  \n",
    "\n",
    "1. **\\[0-9\\]\\*-** means 0 or more occurance of a digit.  \n",
    "2. **\"\\.?\"-** means presence of a decimal point is optional.  \n",
    "3. So, **\"\\[0-9\\]\\*\\.?\"** means 0 or more occurances of digits before decimal point.  \n",
    "This pattern helps to capture values like **.5** where there are no digits before decimal.  \n",
    "4. **\"\\.?\\[0-9\\]+\"** ensures that there must be one or more digits after the decimal point."
   ]
  },
  {
   "cell_type": "code",
   "execution_count": 91,
   "id": "ab84a47a",
   "metadata": {},
   "outputs": [
    {
     "data": {
      "text/html": [
       "<div>\n",
       "<style scoped>\n",
       "    .dataframe tbody tr th:only-of-type {\n",
       "        vertical-align: middle;\n",
       "    }\n",
       "\n",
       "    .dataframe tbody tr th {\n",
       "        vertical-align: top;\n",
       "    }\n",
       "\n",
       "    .dataframe thead th {\n",
       "        text-align: right;\n",
       "    }\n",
       "</style>\n",
       "<table border=\"1\" class=\"dataframe\">\n",
       "  <thead>\n",
       "    <tr style=\"text-align: right;\">\n",
       "      <th></th>\n",
       "      <th>0</th>\n",
       "    </tr>\n",
       "  </thead>\n",
       "  <tbody>\n",
       "    <tr>\n",
       "      <th>0</th>\n",
       "      <td>4.5</td>\n",
       "    </tr>\n",
       "    <tr>\n",
       "      <th>1</th>\n",
       "      <td>3</td>\n",
       "    </tr>\n",
       "    <tr>\n",
       "      <th>2</th>\n",
       "      <td>.5</td>\n",
       "    </tr>\n",
       "  </tbody>\n",
       "</table>\n",
       "</div>"
      ],
      "text/plain": [
       "     0\n",
       "0  4.5\n",
       "1    3\n",
       "2   .5"
      ]
     },
     "execution_count": 91,
     "metadata": {},
     "output_type": "execute_result"
    }
   ],
   "source": [
    "#extract the rating received out of 5\n",
    "ratings.str.extract(pat = r'([0-9]*\\.?[0-9]+)')"
   ]
  },
  {
   "cell_type": "markdown",
   "id": "0865c491",
   "metadata": {},
   "source": [
    "So, this is it!  \n",
    "Ofc, there are many more ways of carrying out the cleaning process.  \n",
    "I hope this will be helpful for the readers in some way.  \n",
    "Thanks for reading :)"
   ]
  }
 ],
 "metadata": {
  "kernelspec": {
   "display_name": "Python 3 (ipykernel)",
   "language": "python",
   "name": "python3"
  },
  "language_info": {
   "codemirror_mode": {
    "name": "ipython",
    "version": 3
   },
   "file_extension": ".py",
   "mimetype": "text/x-python",
   "name": "python",
   "nbconvert_exporter": "python",
   "pygments_lexer": "ipython3",
   "version": "3.10.0"
  }
 },
 "nbformat": 4,
 "nbformat_minor": 5
}
